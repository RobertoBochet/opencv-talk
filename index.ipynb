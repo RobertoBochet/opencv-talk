{
 "cells": [
  {
   "cell_type": "markdown",
   "metadata": {
    "pycharm": {
     "name": "#%% md\n"
    }
   },
   "source": [
    "# Course Python 2020\n",
    "\n",
    "## Few words about OpenCV2\n",
    "\n",
    "(Just an excuse to see how to code in Python)"
   ]
  },
  {
   "cell_type": "markdown",
   "metadata": {},
   "source": [
    "### What is OpenCV2?\n",
    "\n",
    "<img src=\"https://upload.wikimedia.org/wikipedia/commons/3/32/OpenCV_Logo_with_text_svg_version.svg\" width=\"150\"/>\n",
    "\n",
    "It is an **open source** library for real-time **computer vision**"
   ]
  },
  {
   "cell_type": "markdown",
   "metadata": {
    "pycharm": {
     "name": "#%% md\n"
    }
   },
   "source": [
    "<img src=\"https://upload.wikimedia.org/wikipedia/commons/8/87/OfxOpenCV.png\" width=\"300\"/>\n",
    "\n",
    "*Credits [Wikimedia](https://commons.wikimedia.org/wiki/File:OfxOpenCV.png) / Screenshot of openFrameworks / [CC BY-SA](https://creativecommons.org/licenses/by-sa/4.0)*"
   ]
  },
  {
   "cell_type": "markdown",
   "metadata": {
    "pycharm": {
     "name": "#%% md\n"
    }
   },
   "source": [
    "## Let's see how to use a library!"
   ]
  },
  {
   "cell_type": "markdown",
   "metadata": {
    "pycharm": {
     "name": "#%% md\n"
    }
   },
   "source": [
    "### Very first thing!\n",
    "\n",
    "## Retrieve the documentations\n",
    "\n",
    "- [Site](https://opencv.org/)\n",
    "- [Tutorial *4.3.0*](https://docs.opencv.org/4.3.0/d6/d00/tutorial_py_root.html)\n",
    "- [Documentation *4.3.0*](https://docs.opencv.org/4.3.0/)\n",
    "- [Wiki](https://github.com/opencv/opencv/wiki)"
   ]
  },
  {
   "cell_type": "markdown",
   "metadata": {},
   "source": [
    "### The basics"
   ]
  },
  {
   "cell_type": "code",
   "execution_count": null,
   "metadata": {
    "pycharm": {
     "name": "#%%\n"
    }
   },
   "outputs": [],
   "source": [
    "import cv2 as cv"
   ]
  },
  {
   "cell_type": "markdown",
   "metadata": {},
   "source": [
    "We know to use a library in python the first thing we have to do is importing the package.\n",
    "\n",
    "It is conventional to import `OpenCV2` with the alias `cv`, obviously it is not required."
   ]
  },
  {
   "cell_type": "code",
   "execution_count": null,
   "metadata": {
    "pycharm": {
     "name": "#%%\n"
    }
   },
   "outputs": [],
   "source": [
    "img = cv.imread(\"./images/example.jpg\", cv.IMREAD_COLOR)"
   ]
  },
  {
   "cell_type": "markdown",
   "metadata": {},
   "source": [
    "Use [`cv.imread`](https://docs.opencv.org/4.3.0/d4/da8/group__imgcodecs.html#ga288b8b3da0892bd651fce07b3bbd3a56) to load an image.\n",
    "\n",
    "The first argument is the path of the image, the second one tells opencv how to load the image, where the most commonly used values are [`cv.IMREAD_COLOR`](https://docs.opencv.org/4.3.0/d4/da8/group__imgcodecs.html#gga61d9b0126a3e57d9277ac48327799c80af660544735200cbe942eea09232eb822), [`cv.IMREAD_GRAYSCALE`](https://docs.opencv.org/4.3.0/d4/da8/group__imgcodecs.html#gga61d9b0126a3e57d9277ac48327799c80ae29981cfc153d3b0cef5c0daeedd2125) or [`cv.IMREAD_UNCHANGED`](https://docs.opencv.org/4.3.0/d4/da8/group__imgcodecs.html#gga61d9b0126a3e57d9277ac48327799c80aeddd67043ed0df14f9d9a4e66d2b0708).\n"
   ]
  },
  {
   "cell_type": "markdown",
   "metadata": {},
   "source": [
    "But what does `cv.imread` produce?"
   ]
  },
  {
   "cell_type": "code",
   "execution_count": null,
   "metadata": {},
   "outputs": [],
   "source": [
    "type(img)"
   ]
  },
  {
   "cell_type": "markdown",
   "metadata": {},
   "source": [
    "`imread` returns a [`Numpy`](https://numpy.org/) [`ndarray`](https://numpy.org/doc/stable/reference/arrays.ndarray.html).\n",
    "\n",
    "[`Numpy`](https://numpy.org/) is a library which is part of [`SciPy`](https://www.scipy.org/) project, with the aim to provide a smart and powerful system to work with multidimensional matrices."
   ]
  },
  {
   "cell_type": "code",
   "execution_count": null,
   "metadata": {},
   "outputs": [],
   "source": [
    "img.ndim"
   ]
  },
  {
   "cell_type": "markdown",
   "metadata": {},
   "source": [
    "`ndim` method of NumPy array returns the number of matrix dimensions. \n",
    "\n",
    "Our matrix has `3` dimensions, this makes sense: Two dimensions are the height and the width of the image, the third is represented by color's channels of each pixel."
   ]
  },
  {
   "cell_type": "code",
   "execution_count": null,
   "metadata": {},
   "outputs": [],
   "source": [
    "img.shape"
   ]
  },
  {
   "cell_type": "markdown",
   "metadata": {},
   "source": [
    "`shape` method returns a tuple of the size of the matrix of each dimension.\n",
    "\n",
    "The first two are image's height and width, `3` is the number of color's channels. Does **RGB** ring a bell?"
   ]
  },
  {
   "cell_type": "code",
   "execution_count": null,
   "metadata": {},
   "outputs": [],
   "source": [
    "img.dtype"
   ]
  },
  {
   "cell_type": "markdown",
   "metadata": {},
   "source": [
    "Last interesting thing about NumPy's array.\n",
    "\n",
    "`dtype` method returns the type of data composing the array.\n",
    "\n",
    "\n",
    "So, in our image each channel of each pixel is identified by an `unsigned integer` of `8bit`, thus the image's color depth is `8bit`."
   ]
  },
  {
   "cell_type": "markdown",
   "metadata": {},
   "source": [
    "Little question: What about the `shape` of a `grayscale` image?"
   ]
  },
  {
   "cell_type": "code",
   "execution_count": null,
   "metadata": {},
   "outputs": [],
   "source": [
    "cv.imread(\"./images/example.jpg\", cv.IMREAD_GRAYSCALE).shape"
   ]
  },
  {
   "cell_type": "markdown",
   "metadata": {},
   "source": [
    "The matrix has only two dimensions, because each pixel is characterized by only one value."
   ]
  },
  {
   "cell_type": "code",
   "execution_count": null,
   "metadata": {},
   "outputs": [],
   "source": [
    "img"
   ]
  },
  {
   "cell_type": "markdown",
   "metadata": {},
   "source": [
    "Now, we have the basis to understand what we see above, but it is not very useful to understand \"how we are seeing\".\n",
    "\n",
    "Let's try to visualize the image in a more useful way."
   ]
  },
  {
   "cell_type": "code",
   "execution_count": null,
   "metadata": {
    "pycharm": {
     "name": "#%%\n"
    }
   },
   "outputs": [],
   "source": [
    "#cv.imshow(\"Example image\",img)\n",
    "cv.waitKey()\n",
    "cv.destroyAllWindows()"
   ]
  },
  {
   "cell_type": "markdown",
   "metadata": {
    "pycharm": {
     "name": "#%%\n"
    }
   },
   "source": [
    "[`cv.imshow`](https://docs.opencv.org/4.3.0/d7/dfc/group__highgui.html#ga453d42fe4cb60e5723281a89973ee563) opens a new window which shows the image we give to it as second argument, the first one is only the name which will be shown about the window.\n",
    "\n",
    "[`cv.waitKey`](https://docs.opencv.org/4.3.0/d7/dfc/group__highgui.html#ga5628525ad33f52eab17feebcfba38bd7) blocks the code execution until the user presses a keyboard's button.\n",
    "\n",
    "[`cv.destroyAllWindows`](https://docs.opencv.org/4.3.0/d7/dfc/group__highgui.html#ga6b7fc1c1a8960438156912027b38f481) destroys all the windows which had previously been created by opencv.\n",
    "\n",
    "*n.b. the command `cv.imshow` above is commented out because on `Jupyter` this makes it crash*"
   ]
  },
  {
   "cell_type": "markdown",
   "metadata": {},
   "source": [
    "(Un)luckily we are using a Jupyter notebook, and the windows shown is not convinient.\n",
    "\n",
    "To solve it we can use the library [`matplotlib`](https://matplotlib.org/) of the project [`SciPy`](https://www.scipy.org/)."
   ]
  },
  {
   "cell_type": "code",
   "execution_count": null,
   "metadata": {},
   "outputs": [],
   "source": [
    "from matplotlib import pyplot as plt\n",
    "\n",
    "img_rgb = cv.cvtColor(img, cv.COLOR_BGR2RGB)\n",
    "\n",
    "plt.imshow(img_rgb)\n",
    "# without this we will see ticks like in a graph\n",
    "plt.xticks([]), plt.yticks([])\n",
    "plt.title(\"Example image\")\n",
    "plt.show()"
   ]
  },
  {
   "cell_type": "markdown",
   "metadata": {},
   "source": [
    "How we see the result is the same, but there is a small difference.\n",
    "\n",
    "In the code we spot [`cv.cvtColor`](https://docs.opencv.org/4.3.0/d8/d01/group__imgproc__color__conversions.html#ga397ae87e1288a81d2363b61574eb8cab). It converts the image from an encoding to another one.\n",
    "\n",
    "As we have already said, an image (without any compression) is only a matrix of pixels, each pixel is composed by one or more numbers which determine its color. Often, the pixels are composed by three values **R**ed **G**reen and **B**lue (in this order), this is the codification that is used by `matplotlib`.\n",
    "\n",
    "`OpenCV` uses as default the encoding **B**lue **G**reen **R**ed. Why? Because of reasons; Intel's guys are funny people 🤗"
   ]
  },
  {
   "cell_type": "code",
   "execution_count": null,
   "metadata": {},
   "outputs": [],
   "source": [
    "def show(image, is_bgr=True):\n",
    "    if(is_bgr):\n",
    "        image = cv.cvtColor(image, cv.COLOR_BGR2RGB)\n",
    "    plt.imshow(image)\n",
    "    plt.xticks([]), plt.yticks([])\n",
    "    plt.show()"
   ]
  },
  {
   "cell_type": "markdown",
   "metadata": {},
   "source": [
    "We defined `show` function so, for the rest of the file, we can use it to visualize images."
   ]
  },
  {
   "cell_type": "code",
   "execution_count": null,
   "metadata": {},
   "outputs": [],
   "source": [
    "img_g = cv.cvtColor(img, cv.COLOR_BGR2GRAY)\n",
    "      \n",
    "show(img_g)"
   ]
  },
  {
   "cell_type": "markdown",
   "metadata": {},
   "source": [
    "We converted the image to gray scale, then we showed it with our custom function `show`."
   ]
  },
  {
   "cell_type": "markdown",
   "metadata": {},
   "source": [
    "Obviously, we can also save an image before we have done some edits."
   ]
  },
  {
   "cell_type": "code",
   "execution_count": null,
   "metadata": {},
   "outputs": [],
   "source": [
    "cv.imwrite(\"./images/example_b.jpg\", img_g)"
   ]
  },
  {
   "cell_type": "markdown",
   "metadata": {},
   "source": [
    "`cv.imwrite` requires two arguments, first the path of the file we want to create, second the image we want to save."
   ]
  },
  {
   "cell_type": "markdown",
   "metadata": {},
   "source": [
    "### Color spaces and color matching"
   ]
  },
  {
   "cell_type": "markdown",
   "metadata": {},
   "source": [
    "As we saw the main function to manipulate the color is `cv.cvtColor`.\n",
    "\n",
    "This allows us to change the color representation of the image. Well, but why should we need it? Is our smart **BGR** color representation not sufficient to do everything?"
   ]
  },
  {
   "cell_type": "markdown",
   "metadata": {},
   "source": [
    "The answer is yes..."
   ]
  },
  {
   "cell_type": "markdown",
   "metadata": {},
   "source": [
    "... but actually no"
   ]
  },
  {
   "cell_type": "markdown",
   "metadata": {},
   "source": [
    "<img src=\"https://upload.wikimedia.org/wikipedia/commons/thumb/a/af/RGB_color_solid_cube.png/640px-RGB_color_solid_cube.png\" width=\"300\"/>\n",
    "\n",
    "*Credits [Wikimedia](https://commons.wikimedia.org/wiki/File:RGB_color_solid_cube.png) / SharkD / [CC BY-SA](https://creativecommons.org/licenses/by-sa/4.0)*\n",
    "\n",
    "This is a 3D graph of the **RGB** representation. Each axes corresponding to a number."
   ]
  },
  {
   "cell_type": "code",
   "execution_count": null,
   "metadata": {},
   "outputs": [],
   "source": [
    "import numpy as np\n",
    "\n",
    "x = 435\n",
    "y = 440\n",
    "dx = 20\n",
    "dy = 20\n",
    "\n",
    "img_detail = img[y:y+dy, x:x+dx]\n",
    "\n",
    "show(img_detail)"
   ]
  },
  {
   "cell_type": "markdown",
   "metadata": {},
   "source": [
    "This is an image's detail of the yellow part of the flower."
   ]
  },
  {
   "cell_type": "code",
   "execution_count": null,
   "metadata": {},
   "outputs": [],
   "source": [
    "b_min, b_max, _, _ = cv.minMaxLoc(img_detail[:, :, 0])\n",
    "g_min, g_max, _, _ = cv.minMaxLoc(img_detail[:, :, 1])\n",
    "r_min, r_max, _, _ = cv.minMaxLoc(img_detail[:, :, 2])\n",
    "\n",
    "(b_min, b_max), (g_min, g_max), (r_min, r_max)"
   ]
  },
  {
   "cell_type": "markdown",
   "metadata": {},
   "source": [
    "# Inserire cose ^^^^^$&$%&$%&#$$$&$%"
   ]
  },
  {
   "cell_type": "code",
   "execution_count": null,
   "metadata": {},
   "outputs": [],
   "source": [
    "(b_max-b_min) * (g_max-g_min) * (r_max-r_min)"
   ]
  },
  {
   "cell_type": "markdown",
   "metadata": {},
   "source": [
    "We can see how the range of components is very wide, although we are just taking about yellow.\n",
    "\n",
    "let's not worry about that and try to use this information to find the yellow element in the original image."
   ]
  },
  {
   "cell_type": "code",
   "execution_count": null,
   "metadata": {},
   "outputs": [],
   "source": [
    "bgr_lower = np.array([b_min, g_min, r_min], dtype=\"uint8\")\n",
    "bgr_upper = np.array([b_max, g_max, r_max], dtype=\"uint8\")\n",
    "\n",
    "bgr_mask = cv.inRange(img, bgr_lower, bgr_upper)\n",
    "\n",
    "show(bgr_mask)"
   ]
  },
  {
   "cell_type": "markdown",
   "metadata": {},
   "source": [
    "Not the best of the results.\n",
    "\n",
    "But what have we done?\n",
    "We defined two color boundaries based on the range discovered above, and with function `cv.inRange` we generated a mask of the pixels which are in that range."
   ]
  },
  {
   "cell_type": "markdown",
   "metadata": {},
   "source": [
    "Let's try to consider a new color reference."
   ]
  },
  {
   "cell_type": "markdown",
   "metadata": {},
   "source": [
    "<img src=\"https://upload.wikimedia.org/wikipedia/commons/1/16/Hsl-hsv_models_b.svg\" width=\"500\"/>\n",
    "\n",
    "*Credits [Wikimedia](https://commons.wikimedia.org/wiki/File:Hsl-hsv_models_b.svg) / Jacob Rus, SharkD / [CC BY-SA](https://creativecommons.org/licenses/by-sa/3.0)*"
   ]
  },
  {
   "cell_type": "markdown",
   "metadata": {},
   "source": [
    "The **HSL** and **HSV** are two alternatives to **RGB**.\n",
    "\n",
    "Let's retry with one of these."
   ]
  },
  {
   "cell_type": "code",
   "execution_count": null,
   "metadata": {},
   "outputs": [],
   "source": [
    "img_detail_hsv = cv.cvtColor(img_detail, cv.COLOR_BGR2HSV)\n",
    "\n",
    "h_min, h_max, _, _ = cv.minMaxLoc(img_detail_hsv[:, :, 0])\n",
    "s_min, s_max, _, _ = cv.minMaxLoc(img_detail_hsv[:, :, 1])\n",
    "v_min, v_max, _, _ = cv.minMaxLoc(img_detail_hsv[:, :, 2])\n",
    "\n",
    "(h_min, h_max), (s_min, s_max), (v_min, v_max)"
   ]
  },
  {
   "cell_type": "code",
   "execution_count": null,
   "metadata": {},
   "outputs": [],
   "source": [
    "(h_max-h_min) * (s_max-s_min) * (v_max-v_min)"
   ]
  },
  {
   "cell_type": "markdown",
   "metadata": {},
   "source": [
    "The range of colors is much smaller than the previous one.\n",
    "\n",
    "So, retry to find the yellow element now."
   ]
  },
  {
   "cell_type": "code",
   "execution_count": null,
   "metadata": {},
   "outputs": [],
   "source": [
    "img_hsv = cv.cvtColor(img, cv.COLOR_BGR2HSV)\n",
    "\n",
    "hsv_lower = np.array([h_min, s_min, v_min], dtype=\"uint8\")\n",
    "hsv_upper = np.array([h_max, s_max, v_max], dtype=\"uint8\")\n",
    "\n",
    "hsv_mask = cv.inRange(img_hsv, hsv_lower, hsv_upper)\n",
    "\n",
    "show(hsv_mask)"
   ]
  },
  {
   "cell_type": "markdown",
   "metadata": {},
   "source": [
    "Leaving aside the small blobs the result is rather perfect."
   ]
  },
  {
   "cell_type": "markdown",
   "metadata": {},
   "source": [
    "With easy systems of color matching is preferred to use **HSL** or **HSV** rather than **RGB**.\n",
    "\n",
    "*n.b. between **HSL**, **HSV** and **RGB** there is a one-to-one correspondence, so there is not information loss in conversion*"
   ]
  },
  {
   "cell_type": "markdown",
   "metadata": {},
   "source": [
    "### Improving mask"
   ]
  },
  {
   "cell_type": "markdown",
   "metadata": {},
   "source": [
    "As in all measure systems it is a smart idea to remove the noise as soon as possible, when our system contains as much information as possible\\*.\n",
    "\n",
    "(\\*)*talk to your trusted electronic engineer*"
   ]
  },
  {
   "cell_type": "markdown",
   "metadata": {},
   "source": [
    "In our case this suggests us that we should have removed the reasons of the small blob before applying the `cv.inRange` function, with which we lost most of image's informations.\n",
    "\n",
    "But, maybe this time we can correct it even with considerable information loss."
   ]
  },
  {
   "cell_type": "code",
   "execution_count": null,
   "metadata": {},
   "outputs": [],
   "source": [
    "contours, _ = cv.findContours(hsv_mask, \n",
    "                              cv.RETR_CCOMP,\n",
    "                              cv.CHAIN_APPROX_SIMPLE)\n",
    "\n",
    "hsv_mask_c = cv.cvtColor(hsv_mask, cv.COLOR_GRAY2BGR)\n",
    "hsv_mask_c = cv.drawContours(hsv_mask_c, contours, -1, (0, 0, 255), 3)\n",
    "\n",
    "show(hsv_mask_c)"
   ]
  },
  {
   "cell_type": "markdown",
   "metadata": {},
   "source": [
    "The function `cv.findContours` takes into account a bitmap and returns a list of blob's contours.\n",
    "\n",
    "`cv.drawContours` draws a list of contours on a image. The second argument is the list of contours, the third one is the position in array of the contours we want to draw (`-1` means \"all\"), the fourth one is the \"color\" of contour and the last one is the size of the contour (`-1` means \"fill the contour\")."
   ]
  },
  {
   "cell_type": "code",
   "execution_count": null,
   "metadata": {},
   "outputs": [],
   "source": [
    "min_area = 200\n",
    "\n",
    "valid_blobs = list(filter(lambda c: cv.contourArea(c) >= min_area, contours))\n",
    "\n",
    "hsv_mask_c = cv.cvtColor(hsv_mask, cv.COLOR_GRAY2BGR)\n",
    "hsv_mask_c = cv.drawContours(hsv_mask_c, valid_blobs, -1, (0, 0, 255), 3)\n",
    "\n",
    "show(hsv_mask_c)"
   ]
  },
  {
   "cell_type": "markdown",
   "metadata": {},
   "source": [
    " With a simple filter on contours' list we have separated valid blobs from false positive"
   ]
  },
  {
   "cell_type": "code",
   "execution_count": null,
   "metadata": {},
   "outputs": [],
   "source": [
    "mask_filtered = np.zeros(img.shape[:2], dtype=\"uint8\")\n",
    "\n",
    "mask_filtered = cv.drawContours(mask_filtered, valid_blobs, -1, 255, -1)\n",
    "\n",
    "show(mask_filtered)"
   ]
  },
  {
   "cell_type": "markdown",
   "metadata": {},
   "source": [
    "Hooray! The mask is perfect now!"
   ]
  },
  {
   "cell_type": "markdown",
   "metadata": {},
   "source": [
    "### The circle as basis of everything"
   ]
  },
  {
   "cell_type": "markdown",
   "metadata": {},
   "source": [
    "Let's see now another recurrent technique used in computer vision.\n",
    "\n",
    "Find particular shapes is a recurrent problem in computer vision.\n",
    "\n",
    "Today, we will see only an easy function to find circles in our images."
   ]
  },
  {
   "cell_type": "code",
   "execution_count": null,
   "metadata": {},
   "outputs": [],
   "source": [
    "circles = cv.HoughCircles(img_g, cv.HOUGH_GRADIENT, 1, 20,\n",
    "                          param1=50, param2=30,\n",
    "                          minRadius=10, maxRadius=0)\n",
    "\n",
    "img_circles = img.copy()\n",
    "\n",
    "circles = np.uint16(np.around(circles))\n",
    "for c in circles[0,:]:\n",
    "    cv.circle(img_circles,(c[0],c[1]),c[2],(0,255,0),2)\n",
    "    \n",
    "show(img_circles)    "
   ]
  },
  {
   "cell_type": "markdown",
   "metadata": {},
   "source": [
    "[`cv.HoughCircles`](https://docs.opencv.org/4.3.0/dd/d1a/group__imgproc__feature.html#ga47849c3be0d0406ad3ca45db65a25d2d)"
   ]
  },
  {
   "cell_type": "code",
   "execution_count": null,
   "metadata": {},
   "outputs": [],
   "source": []
  }
 ],
 "metadata": {
  "kernelspec": {
   "display_name": "Python 3",
   "language": "python",
   "name": "python3"
  },
  "language_info": {
   "codemirror_mode": {
    "name": "ipython",
    "version": 3
   },
   "file_extension": ".py",
   "mimetype": "text/x-python",
   "name": "python",
   "nbconvert_exporter": "python",
   "pygments_lexer": "ipython3",
   "version": "3.8.2"
  }
 },
 "nbformat": 4,
 "nbformat_minor": 1
}
